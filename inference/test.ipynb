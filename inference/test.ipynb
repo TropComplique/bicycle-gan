{
 "cells": [
  {
   "cell_type": "code",
   "execution_count": null,
   "metadata": {},
   "outputs": [],
   "source": [
    "import torch\n",
    "import numpy as np\n",
    "from PIL import Image\n",
    "\n",
    "import sys\n",
    "sys.path.append('../')\n",
    "\n",
    "from input_pipeline import PairsDataset\n",
    "from networks.generator import Generator\n",
    "from networks.encoder import ResNetEncoder"
   ]
  },
  {
   "cell_type": "markdown",
   "metadata": {},
   "source": [
    "# Load models"
   ]
  },
  {
   "cell_type": "code",
   "execution_count": null,
   "metadata": {},
   "outputs": [],
   "source": [
    "G = Generator(2, 3).eval().cuda()\n",
    "G.load_state_dict(torch.load('../models/run00_generator.pth'))\n",
    "\n",
    "E = ResNetEncoder(3, 8).eval().cuda()\n",
    "E.load_state_dict(torch.load('../models/run00_encoder.pth'))"
   ]
  },
  {
   "cell_type": "markdown",
   "metadata": {},
   "source": [
    "# Load images"
   ]
  },
  {
   "cell_type": "code",
   "execution_count": null,
   "metadata": {},
   "outputs": [],
   "source": [
    "DATA = '/home/dan/datasets/edges2shoes/train/'\n",
    "dataset = PairsDataset(folder=DATA, size=256, is_training=True)\n",
    "\n",
    "A, B = dataset[990]"
   ]
  },
  {
   "cell_type": "markdown",
   "metadata": {},
   "source": [
    "# Show images"
   ]
  },
  {
   "cell_type": "code",
   "execution_count": null,
   "metadata": {},
   "outputs": [],
   "source": [
    "edges = A.permute(1, 2, 0).numpy()[:, :, 0]\n",
    "mask = A.permute(1, 2, 0).numpy()[:, :, 1]\n",
    "image = B.permute(1, 2, 0).numpy()\n",
    "\n",
    "edges = (edges * 255).astype('uint8')\n",
    "mask = (mask * 255).astype('uint8')\n",
    "image = (image * 255).astype('uint8')\n",
    "\n",
    "Image.fromarray(255 - image)"
   ]
  },
  {
   "cell_type": "code",
   "execution_count": null,
   "metadata": {},
   "outputs": [],
   "source": [
    "Image.fromarray(edges)"
   ]
  },
  {
   "cell_type": "code",
   "execution_count": null,
   "metadata": {},
   "outputs": [],
   "source": [
    "Image.fromarray(mask)"
   ]
  },
  {
   "cell_type": "markdown",
   "metadata": {},
   "source": [
    "# Encode"
   ]
  },
  {
   "cell_type": "code",
   "execution_count": null,
   "metadata": {},
   "outputs": [],
   "source": [
    "A2 = A.unsqueeze(0).cuda()\n",
    "B2 = B.unsqueeze(0).cuda()\n",
    "\n",
    "with torch.no_grad():\n",
    "    mean, logvar = E(B2)\n",
    "    std = logvar.mul(0.5).exp()\n",
    "    z = torch.randn(1, 8).cuda()\n",
    "    B_restored = G(A2, mean + z * std)"
   ]
  },
  {
   "cell_type": "code",
   "execution_count": null,
   "metadata": {},
   "outputs": [],
   "source": [
    "image = 1.0 - B_restored.squeeze(0).permute(1, 2, 0).cpu().numpy()\n",
    "image = (image * 255).astype('uint8')\n",
    "Image.fromarray(image)"
   ]
  },
  {
   "cell_type": "markdown",
   "metadata": {},
   "source": [
    "# Generate"
   ]
  },
  {
   "cell_type": "code",
   "execution_count": null,
   "metadata": {},
   "outputs": [],
   "source": [
    "with torch.no_grad():\n",
    "    z = torch.randn(1, 8).cuda()\n",
    "    B_generated = G(A2, z)"
   ]
  },
  {
   "cell_type": "code",
   "execution_count": null,
   "metadata": {},
   "outputs": [],
   "source": [
    "image = 1.0 - B_generated.squeeze(0).permute(1, 2, 0).cpu().numpy()\n",
    "image = (image * 255).astype('uint8')\n",
    "Image.fromarray(image)"
   ]
  }
 ],
 "metadata": {
  "kernelspec": {
   "display_name": "Python 3",
   "language": "python",
   "name": "python3"
  },
  "language_info": {
   "codemirror_mode": {
    "name": "ipython",
    "version": 3
   },
   "file_extension": ".py",
   "mimetype": "text/x-python",
   "name": "python",
   "nbconvert_exporter": "python",
   "pygments_lexer": "ipython3",
   "version": "3.6.7"
  }
 },
 "nbformat": 4,
 "nbformat_minor": 2
}
